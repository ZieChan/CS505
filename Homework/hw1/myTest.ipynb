{
 "cells": [
  {
   "cell_type": "markdown",
   "metadata": {},
   "source": [
    "# Test for baseline"
   ]
  },
  {
   "cell_type": "code",
   "execution_count": 4,
   "metadata": {},
   "outputs": [],
   "source": [
    "import baseline\n",
    "\n",
    "model = baseline.train_unigram()"
   ]
  },
  {
   "cell_type": "code",
   "execution_count": 2,
   "metadata": {},
   "outputs": [],
   "source": [
    "a,b = baseline.dev_unigram(model)"
   ]
  },
  {
   "cell_type": "code",
   "execution_count": 6,
   "metadata": {},
   "outputs": [
    {
     "data": {
      "text/plain": [
       "202"
      ]
     },
     "execution_count": 6,
     "metadata": {},
     "output_type": "execute_result"
    }
   ],
   "source": [
    "a"
   ]
  },
  {
   "cell_type": "code",
   "execution_count": 7,
   "metadata": {},
   "outputs": [
    {
     "data": {
      "text/plain": [
       "1154"
      ]
     },
     "execution_count": 7,
     "metadata": {},
     "output_type": "execute_result"
    }
   ],
   "source": [
    "b"
   ]
  },
  {
   "cell_type": "code",
   "execution_count": 4,
   "metadata": {},
   "outputs": [
    {
     "ename": "NameError",
     "evalue": "name 'a' is not defined",
     "output_type": "error",
     "traceback": [
      "\u001b[1;31m---------------------------------------------------------------------------\u001b[0m",
      "\u001b[1;31mNameError\u001b[0m                                 Traceback (most recent call last)",
      "Cell \u001b[1;32mIn[4], line 1\u001b[0m\n\u001b[1;32m----> 1\u001b[0m \u001b[38;5;28mfloat\u001b[39m(a)\u001b[38;5;241m/\u001b[39mb\n",
      "\u001b[1;31mNameError\u001b[0m: name 'a' is not defined"
     ]
    }
   ],
   "source": [
    "float(a)/b"
   ]
  },
  {
   "cell_type": "markdown",
   "metadata": {},
   "source": [
    "# Test for input of test.py"
   ]
  },
  {
   "cell_type": "code",
   "execution_count": 9,
   "metadata": {},
   "outputs": [],
   "source": [
    "\n",
    "data=utils.read_mono(\"data/english/train\")"
   ]
  },
  {
   "cell_type": "code",
   "execution_count": 17,
   "metadata": {},
   "outputs": [
    {
     "data": {
      "text/plain": [
       "'<BOS>'"
      ]
     },
     "execution_count": 17,
     "metadata": {},
     "output_type": "execute_result"
    }
   ],
   "source": [
    "data[0][0]"
   ]
  },
  {
   "cell_type": "code",
   "execution_count": 1,
   "metadata": {},
   "outputs": [],
   "source": [
    "from collections.abc import Collection, Iterable, Mapping, MutableSet, Sequence, Set\n",
    "W: Set[str] = {'<BOS>', '<EOS>', 'UNK'}\n",
    "NTW: Sequence[str] = list(W)   "
   ]
  },
  {
   "cell_type": "code",
   "execution_count": 2,
   "metadata": {},
   "outputs": [],
   "source": [
    "NTW.append(\"a\")"
   ]
  },
  {
   "cell_type": "code",
   "execution_count": 21,
   "metadata": {},
   "outputs": [
    {
     "name": "stdout",
     "output_type": "stream",
     "text": [
      "0\n",
      "1\n",
      "2\n",
      "3\n",
      "4\n",
      "5\n",
      "6\n",
      "7\n"
     ]
    }
   ],
   "source": [
    "for i,j in zip(range(10),range(8)):\n",
    "    print(i)"
   ]
  },
  {
   "cell_type": "code",
   "execution_count": 25,
   "metadata": {},
   "outputs": [],
   "source": [
    "import collections\n",
    "from typing import Type, Tuple"
   ]
  },
  {
   "cell_type": "code",
   "execution_count": 49,
   "metadata": {},
   "outputs": [],
   "source": [
    "C: collections.Counter = collections.Counter()"
   ]
  },
  {
   "cell_type": "code",
   "execution_count": 43,
   "metadata": {},
   "outputs": [
    {
     "ename": "TypeError",
     "evalue": "'int' object is not subscriptable",
     "output_type": "error",
     "traceback": [
      "\u001b[1;31m---------------------------------------------------------------------------\u001b[0m",
      "\u001b[1;31mTypeError\u001b[0m                                 Traceback (most recent call last)",
      "Cell \u001b[1;32mIn[43], line 1\u001b[0m\n\u001b[1;32m----> 1\u001b[0m C[\u001b[38;5;124m'\u001b[39m\u001b[38;5;124mc\u001b[39m\u001b[38;5;124m'\u001b[39m][\u001b[38;5;124m'\u001b[39m\u001b[38;5;124ma\u001b[39m\u001b[38;5;124m'\u001b[39m] \u001b[38;5;241m+\u001b[39m\u001b[38;5;241m=\u001b[39m \u001b[38;5;241m1\u001b[39m\n",
      "\u001b[1;31mTypeError\u001b[0m: 'int' object is not subscriptable"
     ]
    }
   ],
   "source": [
    "C['c']['a'] += 1"
   ]
  },
  {
   "cell_type": "code",
   "execution_count": 27,
   "metadata": {},
   "outputs": [
    {
     "data": {
      "text/plain": [
       "typing.Tuple[ForwardRef('a'), ForwardRef('b')]"
      ]
     },
     "execution_count": 27,
     "metadata": {},
     "output_type": "execute_result"
    }
   ],
   "source": [
    "Tuple['a','b']"
   ]
  },
  {
   "cell_type": "code",
   "execution_count": 50,
   "metadata": {},
   "outputs": [],
   "source": [
    "C['c',Tuple['a','b']]+=1"
   ]
  },
  {
   "cell_type": "code",
   "execution_count": 53,
   "metadata": {},
   "outputs": [],
   "source": [
    "C['d',Tuple['a','b']]+=1"
   ]
  },
  {
   "cell_type": "code",
   "execution_count": 58,
   "metadata": {},
   "outputs": [],
   "source": [
    "C[Tuple['a','b']]+=3"
   ]
  },
  {
   "cell_type": "code",
   "execution_count": 54,
   "metadata": {},
   "outputs": [],
   "source": [
    "C['a',Tuple['b','c']]+=1"
   ]
  },
  {
   "cell_type": "code",
   "execution_count": null,
   "metadata": {},
   "outputs": [],
   "source": [
    "C: collections.Counter = collections.Counter()\n",
    "C['c','a','b']+=1\n",
    "C['d','a','b']+=1\n",
    "C['a','b','c']+=1"
   ]
  },
  {
   "cell_type": "code",
   "execution_count": 63,
   "metadata": {},
   "outputs": [
    {
     "name": "stdout",
     "output_type": "stream",
     "text": [
      "('c', typing.Tuple[ForwardRef('a'), ForwardRef('b')])\n",
      "('d', typing.Tuple[ForwardRef('a'), ForwardRef('b')])\n",
      "('a', typing.Tuple[ForwardRef('b'), ForwardRef('c')])\n",
      "typing.Tuple[ForwardRef('a'), ForwardRef('b')]\n",
      "2\n"
     ]
    }
   ],
   "source": [
    "# Initialize sum\n",
    "sum_ab = 0\n",
    "\n",
    "# Iterate through the keys of the Counter\n",
    "for key in C:\n",
    "    print(key)\n",
    "    if Tuple['a', 'b'] in key:\n",
    "        sum_ab += C[key]\n",
    "\n",
    "print(sum_ab)"
   ]
  },
  {
   "cell_type": "code",
   "execution_count": 57,
   "metadata": {},
   "outputs": [
    {
     "name": "stdout",
     "output_type": "stream",
     "text": [
      "0\n"
     ]
    }
   ],
   "source": [
    "# Initialize sum\n",
    "sum_ab = 0\n",
    "\n",
    "# Iterate through the keys of the Counter\n",
    "for key in C:\n",
    "    if 'a' in key and 'b' in key:\n",
    "        sum_ab += C[key]\n",
    "\n",
    "print(sum_ab)"
   ]
  },
  {
   "cell_type": "code",
   "execution_count": null,
   "metadata": {},
   "outputs": [],
   "source": []
  },
  {
   "cell_type": "markdown",
   "metadata": {},
   "source": [
    "# Test for ngram"
   ]
  },
  {
   "cell_type": "markdown",
   "metadata": {},
   "source": [
    "## After modified"
   ]
  },
  {
   "cell_type": "code",
   "execution_count": 26,
   "metadata": {},
   "outputs": [],
   "source": [
    "import english\n",
    "import utils\n",
    "model = english.train_ngram(5, \"data/english/train\")"
   ]
  },
  {
   "cell_type": "code",
   "execution_count": 28,
   "metadata": {},
   "outputs": [],
   "source": [
    "(num_count, num_total) = english.dev_ngram(model, \"./data/english/dev\")"
   ]
  },
  {
   "cell_type": "code",
   "execution_count": 29,
   "metadata": {},
   "outputs": [
    {
     "name": "stdout",
     "output_type": "stream",
     "text": [
      "0.15021008403361344\n"
     ]
    }
   ],
   "source": [
    "print(num_count / num_total)"
   ]
  },
  {
   "cell_type": "code",
   "execution_count": 15,
   "metadata": {},
   "outputs": [
    {
     "name": "stdout",
     "output_type": "stream",
     "text": [
      "0.1927710843373494\n"
     ]
    }
   ],
   "source": [
    "print(num_count / num_total)"
   ]
  },
  {
   "cell_type": "code",
   "execution_count": null,
   "metadata": {},
   "outputs": [],
   "source": [
    "\n"
   ]
  },
  {
   "cell_type": "code",
   "execution_count": 1,
   "metadata": {},
   "outputs": [],
   "source": [
    "T = []\n",
    "T = T + ['a']\n",
    "T = T + ['b']\n",
    "T = ['c'] + T"
   ]
  },
  {
   "cell_type": "code",
   "execution_count": 2,
   "metadata": {},
   "outputs": [
    {
     "data": {
      "text/plain": [
       "['c', 'a', 'b']"
      ]
     },
     "execution_count": 2,
     "metadata": {},
     "output_type": "execute_result"
    }
   ],
   "source": [
    "T"
   ]
  },
  {
   "cell_type": "code",
   "execution_count": 3,
   "metadata": {},
   "outputs": [
    {
     "name": "stdout",
     "output_type": "stream",
     "text": [
      "2\n",
      "1\n",
      "0\n"
     ]
    }
   ],
   "source": [
    "for i in range(3).__reversed__():\n",
    "    print(i)"
   ]
  },
  {
   "cell_type": "code",
   "execution_count": 8,
   "metadata": {},
   "outputs": [],
   "source": [
    "pre_vocab: set[set] = set()"
   ]
  },
  {
   "cell_type": "code",
   "execution_count": 10,
   "metadata": {},
   "outputs": [],
   "source": [
    "pre_vocab = [set() for _ in range(3)]\n",
    "pre_vocab[2].add(tuple(['a','b']))"
   ]
  },
  {
   "cell_type": "code",
   "execution_count": 11,
   "metadata": {},
   "outputs": [],
   "source": [
    "pre_vocab[1].add(tuple(['b']))"
   ]
  },
  {
   "cell_type": "code",
   "execution_count": 13,
   "metadata": {},
   "outputs": [
    {
     "data": {
      "text/plain": [
       "{('b',)}"
      ]
     },
     "execution_count": 13,
     "metadata": {},
     "output_type": "execute_result"
    }
   ],
   "source": [
    "pre_vocab[1]"
   ]
  },
  {
   "cell_type": "code",
   "execution_count": 14,
   "metadata": {},
   "outputs": [],
   "source": [
    "logprob = [{} for i in range(3)]"
   ]
  },
  {
   "cell_type": "code",
   "execution_count": 15,
   "metadata": {},
   "outputs": [],
   "source": [
    "logprob[2][tuple(['c',tuple(['a','b'])])] = 0.1"
   ]
  },
  {
   "cell_type": "code",
   "execution_count": 16,
   "metadata": {},
   "outputs": [
    {
     "data": {
      "text/plain": [
       "0.1"
      ]
     },
     "execution_count": 16,
     "metadata": {},
     "output_type": "execute_result"
    }
   ],
   "source": [
    "logprob[2][tuple(['c',tuple(['a','b'])])]"
   ]
  },
  {
   "cell_type": "code",
   "execution_count": null,
   "metadata": {},
   "outputs": [],
   "source": []
  },
  {
   "cell_type": "markdown",
   "metadata": {},
   "source": [
    "## Original"
   ]
  },
  {
   "cell_type": "code",
   "execution_count": 1,
   "metadata": {},
   "outputs": [],
   "source": [
    "import english_original as english\n",
    "import utils\n",
    "model = english.train_ngram(5, \"./data/english/train\")"
   ]
  },
  {
   "cell_type": "code",
   "execution_count": 4,
   "metadata": {},
   "outputs": [
    {
     "name": "stdout",
     "output_type": "stream",
     "text": [
      "Processing line 1 of 101\n",
      "Processing line 2 of 101\n",
      "Processing line 3 of 101\n",
      "Processing line 4 of 101\n",
      "Processing line 5 of 101\n",
      "Processing line 6 of 101\n",
      "Processing line 7 of 101\n",
      "Processing line 8 of 101\n",
      "Processing line 9 of 101\n",
      "Processing line 10 of 101\n",
      "Processing line 11 of 101\n",
      "Processing line 12 of 101\n",
      "Processing line 13 of 101\n",
      "Processing line 14 of 101\n",
      "Processing line 15 of 101\n",
      "Processing line 16 of 101\n",
      "Processing line 17 of 101\n",
      "Processing line 18 of 101\n",
      "Processing line 19 of 101\n",
      "Processing line 20 of 101\n",
      "Processing line 21 of 101\n",
      "Processing line 22 of 101\n",
      "Processing line 23 of 101\n",
      "Processing line 24 of 101\n",
      "Processing line 25 of 101\n",
      "Processing line 26 of 101\n",
      "Processing line 27 of 101\n",
      "Processing line 28 of 101\n",
      "Processing line 29 of 101\n",
      "Processing line 30 of 101\n",
      "Processing line 31 of 101\n",
      "Processing line 32 of 101\n",
      "Processing line 33 of 101\n",
      "Processing line 34 of 101\n",
      "Processing line 35 of 101\n",
      "Processing line 36 of 101\n",
      "Processing line 37 of 101\n",
      "Processing line 38 of 101\n",
      "Processing line 39 of 101\n",
      "Processing line 40 of 101\n",
      "Processing line 41 of 101\n",
      "Processing line 42 of 101\n",
      "Processing line 43 of 101\n",
      "Processing line 44 of 101\n",
      "Processing line 45 of 101\n",
      "Processing line 46 of 101\n",
      "Processing line 47 of 101\n",
      "Processing line 48 of 101\n",
      "Processing line 49 of 101\n",
      "Processing line 50 of 101\n",
      "Processing line 51 of 101\n",
      "Processing line 52 of 101\n",
      "Processing line 53 of 101\n",
      "Processing line 54 of 101\n",
      "Processing line 55 of 101\n",
      "Processing line 56 of 101\n",
      "Processing line 57 of 101\n",
      "Processing line 58 of 101\n",
      "Processing line 59 of 101\n",
      "Processing line 60 of 101\n",
      "Processing line 61 of 101\n",
      "Processing line 62 of 101\n",
      "Processing line 63 of 101\n",
      "Processing line 64 of 101\n",
      "Processing line 65 of 101\n",
      "Processing line 66 of 101\n",
      "Processing line 67 of 101\n",
      "Processing line 68 of 101\n",
      "Processing line 69 of 101\n",
      "Processing line 70 of 101\n",
      "Processing line 71 of 101\n",
      "Processing line 72 of 101\n",
      "Processing line 73 of 101\n",
      "Processing line 74 of 101\n",
      "Processing line 75 of 101\n",
      "Processing line 76 of 101\n",
      "Processing line 77 of 101\n",
      "Processing line 78 of 101\n",
      "Processing line 79 of 101\n",
      "Processing line 80 of 101\n",
      "Processing line 81 of 101\n",
      "Processing line 82 of 101\n",
      "Processing line 83 of 101\n",
      "Processing line 84 of 101\n",
      "Processing line 85 of 101\n",
      "Processing line 86 of 101\n",
      "Processing line 87 of 101\n",
      "Processing line 88 of 101\n",
      "Processing line 89 of 101\n",
      "Processing line 90 of 101\n",
      "Processing line 91 of 101\n",
      "Processing line 92 of 101\n",
      "Processing line 93 of 101\n",
      "Processing line 94 of 101\n",
      "Processing line 95 of 101\n",
      "Processing line 96 of 101\n",
      "Processing line 97 of 101\n",
      "Processing line 98 of 101\n",
      "Processing line 99 of 101\n",
      "Processing line 100 of 101\n",
      "Processing line 101 of 101\n"
     ]
    }
   ],
   "source": [
    "num_total, num_count = english.dev_ngram(model, \"./data/english/dev\")"
   ]
  },
  {
   "cell_type": "code",
   "execution_count": 6,
   "metadata": {},
   "outputs": [
    {
     "data": {
      "text/plain": [
       "0.5635669813215505"
      ]
     },
     "execution_count": 6,
     "metadata": {},
     "output_type": "execute_result"
    }
   ],
   "source": [
    "num_total / num_count"
   ]
  },
  {
   "cell_type": "code",
   "execution_count": 14,
   "metadata": {},
   "outputs": [
    {
     "data": {
      "text/plain": [
       "True"
      ]
     },
     "execution_count": 14,
     "metadata": {},
     "output_type": "execute_result"
    }
   ],
   "source": [
    "('i', 'wanted', 'to', 'update' ) in model.pre_vocab"
   ]
  },
  {
   "cell_type": "code",
   "execution_count": 17,
   "metadata": {},
   "outputs": [
    {
     "data": {
      "text/plain": [
       "['to']"
      ]
     },
     "execution_count": 17,
     "metadata": {},
     "output_type": "execute_result"
    }
   ],
   "source": [
    "model.pre_to_word[tuple(['i', 'wanted', 'to', 'update'])]"
   ]
  },
  {
   "cell_type": "code",
   "execution_count": 10,
   "metadata": {},
   "outputs": [
    {
     "data": {
      "text/plain": [
       "0.15336134453781514"
      ]
     },
     "execution_count": 10,
     "metadata": {},
     "output_type": "execute_result"
    }
   ],
   "source": [
    "num_count / num_total"
   ]
  },
  {
   "cell_type": "code",
   "execution_count": 1,
   "metadata": {},
   "outputs": [],
   "source": [
    "import english\n",
    "import utils\n",
    "model = english.train_ngram(5, \"data/english/train\")"
   ]
  },
  {
   "cell_type": "code",
   "execution_count": 2,
   "metadata": {},
   "outputs": [],
   "source": [
    "(num_count, num_total) = english.dev_ngram(model, \"./data/english/dev\")"
   ]
  },
  {
   "cell_type": "code",
   "execution_count": 3,
   "metadata": {},
   "outputs": [
    {
     "name": "stdout",
     "output_type": "stream",
     "text": [
      "0.05777310924369748\n"
     ]
    }
   ],
   "source": [
    "print(num_count / num_total)"
   ]
  },
  {
   "cell_type": "code",
   "execution_count": 4,
   "metadata": {},
   "outputs": [],
   "source": [
    "(num_count, num_total) = english.test_ngram(model, \"./data/english/test\")"
   ]
  },
  {
   "cell_type": "code",
   "execution_count": 5,
   "metadata": {},
   "outputs": [
    {
     "name": "stdout",
     "output_type": "stream",
     "text": [
      "0.9713818479149632\n"
     ]
    }
   ],
   "source": [
    "print(num_count / num_total)"
   ]
  },
  {
   "cell_type": "code",
   "execution_count": null,
   "metadata": {},
   "outputs": [],
   "source": []
  },
  {
   "cell_type": "markdown",
   "metadata": {},
   "source": [
    "## Copy"
   ]
  },
  {
   "cell_type": "code",
   "execution_count": 4,
   "metadata": {},
   "outputs": [
    {
     "ename": "KeyboardInterrupt",
     "evalue": "",
     "output_type": "error",
     "traceback": [
      "\u001b[0;31m---------------------------------------------------------------------------\u001b[0m",
      "\u001b[0;31mKeyboardInterrupt\u001b[0m                         Traceback (most recent call last)",
      "Cell \u001b[0;32mIn[4], line 3\u001b[0m\n\u001b[1;32m      1\u001b[0m \u001b[38;5;28;01mimport\u001b[39;00m \u001b[38;5;21;01menglish_copy\u001b[39;00m \u001b[38;5;28;01mas\u001b[39;00m \u001b[38;5;21;01menglish\u001b[39;00m\n\u001b[1;32m      2\u001b[0m \u001b[38;5;28;01mimport\u001b[39;00m \u001b[38;5;21;01mutils\u001b[39;00m\n\u001b[0;32m----> 3\u001b[0m model \u001b[38;5;241m=\u001b[39m english\u001b[38;5;241m.\u001b[39mtrain_ngram(\u001b[38;5;241m5\u001b[39m, \u001b[38;5;124m\"\u001b[39m\u001b[38;5;124mdata/english/train\u001b[39m\u001b[38;5;124m\"\u001b[39m)\n",
      "File \u001b[0;32m~/Documents/GitHub/CS505/Homework/hw1/english_copy.py:12\u001b[0m, in \u001b[0;36mtrain_ngram\u001b[0;34m(N, train_path, d)\u001b[0m\n\u001b[1;32m     10\u001b[0m \u001b[38;5;28;01mdef\u001b[39;00m \u001b[38;5;21mtrain_ngram\u001b[39m(N: \u001b[38;5;28mint\u001b[39m, train_path: \u001b[38;5;28mstr\u001b[39m \u001b[38;5;241m=\u001b[39m \u001b[38;5;124m\"\u001b[39m\u001b[38;5;124mdata/english/train\u001b[39m\u001b[38;5;124m\"\u001b[39m, d: \u001b[38;5;28mint\u001b[39m \u001b[38;5;241m=\u001b[39m \u001b[38;5;241m1\u001b[39m) \u001b[38;5;241m-\u001b[39m\u001b[38;5;241m>\u001b[39m ngram\u001b[38;5;241m.\u001b[39mNgram:\n\u001b[1;32m     11\u001b[0m     train_data: Sequence[Sequence[\u001b[38;5;28mstr\u001b[39m]] \u001b[38;5;241m=\u001b[39m utils\u001b[38;5;241m.\u001b[39mread_mono(train_path)\n\u001b[0;32m---> 12\u001b[0m     \u001b[38;5;28;01mreturn\u001b[39;00m ngram\u001b[38;5;241m.\u001b[39mNgram(N, train_data, d)\n",
      "File \u001b[0;32m~/Documents/GitHub/CS505/Homework/hw1/ngram_copy.py:96\u001b[0m, in \u001b[0;36mNgram.__init__\u001b[0;34m(self, N, data, d)\u001b[0m\n\u001b[1;32m     94\u001b[0m                 \u001b[38;5;28mself\u001b[39m\u001b[38;5;241m.\u001b[39mlogprob[i\u001b[38;5;241m+\u001b[39m\u001b[38;5;241m1\u001b[39m][\u001b[38;5;28mtuple\u001b[39m([word, pre_words])] \u001b[38;5;241m=\u001b[39m \u001b[38;5;241m-\u001b[39mmath\u001b[38;5;241m.\u001b[39minf\n\u001b[1;32m     95\u001b[0m             \u001b[38;5;28;01melse\u001b[39;00m:\n\u001b[0;32m---> 96\u001b[0m                 \u001b[38;5;28mself\u001b[39m\u001b[38;5;241m.\u001b[39mlogprob[i\u001b[38;5;241m+\u001b[39m\u001b[38;5;241m1\u001b[39m][\u001b[38;5;28mtuple\u001b[39m([word, pre_words])] \u001b[38;5;241m=\u001b[39m math\u001b[38;5;241m.\u001b[39mlog(LAMBDA\u001b[38;5;241m*\u001b[39mcount_n[word, pre_words]\u001b[38;5;241m/\u001b[39mcount_sum[pre_words] \u001b[38;5;241m+\u001b[39m (\u001b[38;5;241m1\u001b[39m\u001b[38;5;241m-\u001b[39mLAMBDA)\u001b[38;5;241m*\u001b[39mmath\u001b[38;5;241m.\u001b[39mexp(\u001b[38;5;28mself\u001b[39m\u001b[38;5;241m.\u001b[39mlogprob[\u001b[38;5;241m0\u001b[39m][word]))\n\u001b[1;32m     97\u001b[0m                 \u001b[38;5;66;03m# self.logprob[i+1][tuple([word, pre_words])] = math.log(count_n[word, pre_words]/count_sum[pre_words])\u001b[39;00m\n\u001b[1;32m     98\u001b[0m \n\u001b[1;32m     99\u001b[0m \u001b[38;5;28;01melse\u001b[39;00m:\n\u001b[1;32m    100\u001b[0m     \u001b[38;5;66;03m# if i >= 2:\u001b[39;00m\n\u001b[1;32m    101\u001b[0m     \u001b[38;5;28;01mfor\u001b[39;00m pre_words \u001b[38;5;129;01min\u001b[39;00m \u001b[38;5;28mself\u001b[39m\u001b[38;5;241m.\u001b[39mpre_vocab[i\u001b[38;5;241m+\u001b[39m\u001b[38;5;241m1\u001b[39m]: \u001b[38;5;66;03m# i+1 -> 1\u001b[39;00m\n\u001b[1;32m    102\u001b[0m         \u001b[38;5;66;03m# print(\"i+1:\", i+1)\u001b[39;00m\n\u001b[1;32m    103\u001b[0m         \u001b[38;5;66;03m# SUM = sum([count_n[word, pre_words] for word in self.pre_to_word[pre_words]])\u001b[39;00m\n\u001b[1;32m    104\u001b[0m         \u001b[38;5;66;03m# LAMBDA = 0.5 # SUM / (SUM + len(self.pre_to_word[pre_words]))\u001b[39;00m\n",
      "\u001b[0;31mKeyboardInterrupt\u001b[0m: "
     ]
    }
   ],
   "source": [
    "import english_copy as english\n",
    "import utils\n",
    "model = english.train_ngram(5, \"data/english/train\")"
   ]
  },
  {
   "cell_type": "code",
   "execution_count": 2,
   "metadata": {},
   "outputs": [],
   "source": [
    "(num_count, num_total) = english.dev_ngram(model, \"./data/english/dev\")"
   ]
  },
  {
   "cell_type": "code",
   "execution_count": 3,
   "metadata": {},
   "outputs": [
    {
     "data": {
      "text/plain": [
       "0.5862068965517241"
      ]
     },
     "execution_count": 3,
     "metadata": {},
     "output_type": "execute_result"
    }
   ],
   "source": [
    "num_count / num_total"
   ]
  },
  {
   "cell_type": "code",
   "execution_count": null,
   "metadata": {},
   "outputs": [],
   "source": []
  }
 ],
 "metadata": {
  "kernelspec": {
   "display_name": "base",
   "language": "python",
   "name": "python3"
  },
  "language_info": {
   "codemirror_mode": {
    "name": "ipython",
    "version": 3
   },
   "file_extension": ".py",
   "mimetype": "text/x-python",
   "name": "python",
   "nbconvert_exporter": "python",
   "pygments_lexer": "ipython3",
   "version": "3.11.5"
  }
 },
 "nbformat": 4,
 "nbformat_minor": 2
}
